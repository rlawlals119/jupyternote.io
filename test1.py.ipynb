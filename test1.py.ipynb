{
 "cells": [
  {
   "cell_type": "markdown",
   "id": "429ccf98",
   "metadata": {},
   "source": [
    "1. a=\"Hello Python\" 문자열을 Slicing과 연결 연산자 (+)를 사용하여 \"Python Hello\"로 변경하시오.\n",
    "- [주의] a 변수 자체에 \"Python Hello\" 문자열이 저장되어야 함"
   ]
  },
  {
   "cell_type": "code",
   "execution_count": 1,
   "id": "8341662a",
   "metadata": {},
   "outputs": [
    {
     "name": "stdout",
     "output_type": "stream",
     "text": [
      "Python Hello\n"
     ]
    }
   ],
   "source": [
    "a = \"Hello Python\"\n",
    "b = a[0:5]\n",
    "c = a[6:12]\n",
    "a = c + \" \" + b\n",
    "print(a)"
   ]
  },
  {
   "cell_type": "markdown",
   "id": "b4e835ff",
   "metadata": {},
   "source": [
    "> 슬라이싱 사용 : a[시작점:끝점]"
   ]
  },
  {
   "cell_type": "markdown",
   "id": "ee504d19",
   "metadata": {},
   "source": [
    "1. b=\"Hello Python World\" 문자열을 Slicing과 연결 연산자 (+)를 사용하여 \"World Python Hello\"로 변경하시오.\n",
    "- [주의] b 변수 자체에 \"World Python Hello\" 문자열이 저장되어야 함"
   ]
  },
  {
   "cell_type": "code",
   "execution_count": 2,
   "id": "56dd9165",
   "metadata": {},
   "outputs": [
    {
     "name": "stdout",
     "output_type": "stream",
     "text": [
      "World Python Hello\n"
     ]
    }
   ],
   "source": [
    "b = \"Hello Python World\"\n",
    "h = b[0:5]\n",
    "p = b[6:12]\n",
    "w = b[13:18]\n",
    "b = w + \" \" + p + \" \" + h\n",
    "print(b)"
   ]
  },
  {
   "cell_type": "markdown",
   "id": "83fe3538",
   "metadata": {},
   "source": [
    "> 슬라이싱: a[시작점:끝점] -> 시작점에서 끝점까지의 항목을 반환한다\n",
    "\n",
    "> +: 리스트 + 리스트 를 하면 두 리스트가 합쳐진다."
   ]
  },
  {
   "cell_type": "markdown",
   "id": "2024fd14",
   "metadata": {},
   "source": [
    "1. c=\"Hello\"를 \"olleH\"로 변경하시오\n",
    "- [주의] c 변수 자체에 \"olleH\" 문자열이 저장되어야 함"
   ]
  },
  {
   "cell_type": "code",
   "execution_count": 3,
   "id": "58384829",
   "metadata": {},
   "outputs": [
    {
     "name": "stdout",
     "output_type": "stream",
     "text": [
      "olleH\n"
     ]
    }
   ],
   "source": [
    "c = \"Hello\"\n",
    "c = c[::-1]\n",
    "print(c)"
   ]
  },
  {
   "cell_type": "markdown",
   "id": "09f0bbcb",
   "metadata": {},
   "source": [
    "> c[::-1] // 맨 끝에서 -1씩 앞으로 반환 즉 역순으로 반환"
   ]
  },
  {
   "cell_type": "markdown",
   "id": "da3a3187",
   "metadata": {},
   "source": [
    "1. s=\"python\"에 대해 다음 문제를 풀어보시오.\n",
    "\n",
    "- A. s[0], s[0][0], s[0][0][0]은 각각 어떤 값이 나오는지 확인하고 그 이유를 나름대로 설명해 보시오.\n",
    "- B. s[-100], s[100]은 값이 나오는지 에러가 나오는지 확인하고 그 결과에 대한 이유를 나름대로 설명해 보시오.\n",
    "- C. s[-100, 100]은 값이 나오는지 에러가 나오는지 확인하고 그 결과에 대한 이유를 나름대로 설명해 보시오.\n",
    "- D. s[1:-1]의 결과를 확인하고 그 결과에 대한 이유를 정확하게 설명하시오.\n",
    "- E. s[3:-3]의 결과를 확인하고 그 결과에 대한 이유를 정확하게 설명하시오."
   ]
  },
  {
   "cell_type": "code",
   "execution_count": 4,
   "id": "fc45c266",
   "metadata": {},
   "outputs": [
    {
     "name": "stdout",
     "output_type": "stream",
     "text": [
      "p\n",
      "p\n",
      "p\n"
     ]
    }
   ],
   "source": [
    "# A\n",
    "s = \"python\"\n",
    "print(s[0])\n",
    "print(s[0][0])\n",
    "print(s[0][0][0])\n"
   ]
  },
  {
   "cell_type": "markdown",
   "id": "e8f87d14",
   "metadata": {},
   "source": [
    "> s[0]은 0위치의 항목을 나타내기 때문에 p가 출력이 되었고 s[0][0]은 0위치의 항목 리스트의 0위치 항목을 나타내기 때문에 p가 출력되었고 s[0][0][0] 또한 마찬가지이다."
   ]
  },
  {
   "cell_type": "code",
   "execution_count": 5,
   "id": "0ffe288d",
   "metadata": {},
   "outputs": [
    {
     "ename": "IndexError",
     "evalue": "string index out of range",
     "output_type": "error",
     "traceback": [
      "\u001b[1;31m---------------------------------------------------------------------------\u001b[0m",
      "\u001b[1;31mIndexError\u001b[0m                                Traceback (most recent call last)",
      "\u001b[1;32m<ipython-input-5-d6a820538c29>\u001b[0m in \u001b[0;36m<module>\u001b[1;34m\u001b[0m\n\u001b[0;32m      1\u001b[0m \u001b[1;31m# B\u001b[0m\u001b[1;33m\u001b[0m\u001b[1;33m\u001b[0m\u001b[1;33m\u001b[0m\u001b[0m\n\u001b[0;32m      2\u001b[0m \u001b[0ms\u001b[0m \u001b[1;33m=\u001b[0m \u001b[1;34m\"python\"\u001b[0m\u001b[1;33m\u001b[0m\u001b[1;33m\u001b[0m\u001b[0m\n\u001b[1;32m----> 3\u001b[1;33m \u001b[0mprint\u001b[0m\u001b[1;33m(\u001b[0m\u001b[0ms\u001b[0m\u001b[1;33m[\u001b[0m\u001b[1;33m-\u001b[0m\u001b[1;36m100\u001b[0m\u001b[1;33m]\u001b[0m\u001b[1;33m)\u001b[0m\u001b[1;33m\u001b[0m\u001b[1;33m\u001b[0m\u001b[0m\n\u001b[0m\u001b[0;32m      4\u001b[0m \u001b[0mprint\u001b[0m\u001b[1;33m(\u001b[0m\u001b[0ms\u001b[0m\u001b[1;33m[\u001b[0m\u001b[1;36m100\u001b[0m\u001b[1;33m]\u001b[0m\u001b[1;33m)\u001b[0m\u001b[1;33m\u001b[0m\u001b[1;33m\u001b[0m\u001b[0m\n",
      "\u001b[1;31mIndexError\u001b[0m: string index out of range"
     ]
    }
   ],
   "source": [
    "# B\n",
    "s = \"python\"\n",
    "print(s[-100])\n",
    "print(s[100])"
   ]
  },
  {
   "cell_type": "markdown",
   "id": "050da426",
   "metadata": {},
   "source": [
    "> 문자열 s의 인덱스 범위를 벗어낫기 때문에 에러가 발생하였습니다."
   ]
  },
  {
   "cell_type": "code",
   "execution_count": 6,
   "id": "500aca11",
   "metadata": {},
   "outputs": [
    {
     "ename": "TypeError",
     "evalue": "string indices must be integers",
     "output_type": "error",
     "traceback": [
      "\u001b[1;31m---------------------------------------------------------------------------\u001b[0m",
      "\u001b[1;31mTypeError\u001b[0m                                 Traceback (most recent call last)",
      "\u001b[1;32m<ipython-input-6-c6f936d2c365>\u001b[0m in \u001b[0;36m<module>\u001b[1;34m\u001b[0m\n\u001b[0;32m      1\u001b[0m \u001b[1;31m# C\u001b[0m\u001b[1;33m\u001b[0m\u001b[1;33m\u001b[0m\u001b[1;33m\u001b[0m\u001b[0m\n\u001b[0;32m      2\u001b[0m \u001b[0ms\u001b[0m \u001b[1;33m=\u001b[0m \u001b[1;34m\"python\"\u001b[0m\u001b[1;33m\u001b[0m\u001b[1;33m\u001b[0m\u001b[0m\n\u001b[1;32m----> 3\u001b[1;33m \u001b[0mprint\u001b[0m\u001b[1;33m(\u001b[0m\u001b[0ms\u001b[0m\u001b[1;33m[\u001b[0m\u001b[1;33m-\u001b[0m\u001b[1;36m100\u001b[0m\u001b[1;33m,\u001b[0m \u001b[1;36m100\u001b[0m\u001b[1;33m]\u001b[0m\u001b[1;33m)\u001b[0m\u001b[1;33m\u001b[0m\u001b[1;33m\u001b[0m\u001b[0m\n\u001b[0m",
      "\u001b[1;31mTypeError\u001b[0m: string indices must be integers"
     ]
    }
   ],
   "source": [
    "# C\n",
    "s = \"python\"\n",
    "print(s[-100, 100])"
   ]
  },
  {
   "cell_type": "markdown",
   "id": "fc5a5eac",
   "metadata": {},
   "source": [
    "> 문자열 인덱스는 정수여야 하기 때문에 에러가 났습니다."
   ]
  },
  {
   "cell_type": "code",
   "execution_count": 7,
   "id": "6b94727f",
   "metadata": {},
   "outputs": [
    {
     "name": "stdout",
     "output_type": "stream",
     "text": [
      "ytho\n"
     ]
    }
   ],
   "source": [
    "# D\n",
    "s = \"python\"\n",
    "print(s[1:-1])"
   ]
  },
  {
   "cell_type": "markdown",
   "id": "7893d77f",
   "metadata": {},
   "source": [
    "> s[1:-1] 는 1위치인 y부터 마지막 위치의 -1인 n항목 전까지를 반환한다."
   ]
  },
  {
   "cell_type": "code",
   "execution_count": null,
   "id": "1c96efc8",
   "metadata": {},
   "outputs": [],
   "source": [
    "# E\n",
    "s = \"python\"\n",
    "print(s[3:-3])"
   ]
  },
  {
   "cell_type": "markdown",
   "id": "a1bf87cb",
   "metadata": {},
   "source": [
    "> s[3:-3]은 3위치와 -3의 위치는 같기 때문에 어떤 항목도 반환하지 않는다."
   ]
  },
  {
   "cell_type": "markdown",
   "id": "a245a530",
   "metadata": {},
   "source": [
    "1. for문을 활용하여 1부터 100사이의 홀수를 출력하시오."
   ]
  },
  {
   "cell_type": "code",
   "execution_count": 8,
   "id": "a1d7f417",
   "metadata": {},
   "outputs": [
    {
     "name": "stdout",
     "output_type": "stream",
     "text": [
      "1\n",
      "3\n",
      "5\n",
      "7\n",
      "9\n",
      "11\n",
      "13\n",
      "15\n",
      "17\n",
      "19\n",
      "21\n",
      "23\n",
      "25\n",
      "27\n",
      "29\n",
      "31\n",
      "33\n",
      "35\n",
      "37\n",
      "39\n",
      "41\n",
      "43\n",
      "45\n",
      "47\n",
      "49\n",
      "51\n",
      "53\n",
      "55\n",
      "57\n",
      "59\n",
      "61\n",
      "63\n",
      "65\n",
      "67\n",
      "69\n",
      "71\n",
      "73\n",
      "75\n",
      "77\n",
      "79\n",
      "81\n",
      "83\n",
      "85\n",
      "87\n",
      "89\n",
      "91\n",
      "93\n",
      "95\n",
      "97\n",
      "99\n"
     ]
    }
   ],
   "source": [
    "for n in range(0,100):\n",
    "    if n % 2 == 1 :\n",
    "        print(n)"
   ]
  },
  {
   "cell_type": "markdown",
   "id": "d7290cf0",
   "metadata": {},
   "source": [
    "> for 구문을 사용하였고 if문과 홀수를 2로 나누면 나머지가 1인 점을 이용하여 홀수를 판별하고 출력하였습니다."
   ]
  },
  {
   "cell_type": "markdown",
   "id": "2d89db3d",
   "metadata": {},
   "source": [
    "1. while문을 활용하여 1부터 100사이의 짝수의 합을 계산하여 출력하시오."
   ]
  },
  {
   "cell_type": "code",
   "execution_count": 9,
   "id": "7d2a2ad0",
   "metadata": {},
   "outputs": [
    {
     "name": "stdout",
     "output_type": "stream",
     "text": [
      "2550\n"
     ]
    }
   ],
   "source": [
    "n=0\n",
    "i=0\n",
    "while i<101:\n",
    "    if i % 2 == 0:\n",
    "        n = n+i\n",
    "    i = i+1\n",
    "print(n)"
   ]
  },
  {
   "cell_type": "markdown",
   "id": "30be2ea9",
   "metadata": {},
   "source": [
    "> 짝수는 2로 나눈 나머지가 0인 점과 while 반복문을 이용하여 1부터 100사이의 짝수의 합을 계산하였습니다."
   ]
  },
  {
   "cell_type": "markdown",
   "id": "e6dcd5cc",
   "metadata": {},
   "source": [
    "1. 사용자로 부터 임의의 정수를 입력받고, 해당 숫자를 역순으로 출력하는 프로그램을 작성하시오.\n",
    "\n",
    "[실행 예]\n",
    "\n",
    " 정수를 입력하세요: 3125\n",
    " \n",
    " 숫자 역순은 5213 입니다."
   ]
  },
  {
   "cell_type": "code",
   "execution_count": 10,
   "id": "98faa88f",
   "metadata": {},
   "outputs": [
    {
     "name": "stdout",
     "output_type": "stream",
     "text": [
      "정수를 입력하세요: 3125\n",
      "숫자 역순은 5213 입니다.\n"
     ]
    }
   ],
   "source": [
    "a = input(\"정수를 입력하세요: \")\n",
    "a = a[::-1]\n",
    "print(\"숫자 역순은 \" + a + \" 입니다.\")"
   ]
  },
  {
   "cell_type": "markdown",
   "id": "5c132ebf",
   "metadata": {},
   "source": [
    "> a[::-1]은 문자열 a를 맨 끝부터 앞까지 -1 씩 슬라이싱 하는것으로 문자열을 역순으로 반환합니다."
   ]
  },
  {
   "cell_type": "markdown",
   "id": "3188ec02",
   "metadata": {},
   "source": [
    "1. 사용자로 부터 정수를 입력받아서 1부터 그 사이에 존재하는 소수 (Prime number)를 출력하는 파이썬 프로그램을 작성하시오."
   ]
  },
  {
   "cell_type": "code",
   "execution_count": 15,
   "id": "10f87e8a",
   "metadata": {},
   "outputs": [
    {
     "name": "stdout",
     "output_type": "stream",
     "text": [
      "정수를 입력하세요: 20\n",
      "2\n",
      "3\n",
      "5\n",
      "7\n",
      "11\n",
      "13\n",
      "17\n",
      "19\n"
     ]
    }
   ],
   "source": [
    "a = int(input(\"정수를 입력하세요: \"))\n",
    "if a == 0 and a == 1:\n",
    "    print(\"없습니다.\")\n",
    "elif a == 2:\n",
    "    print(a)\n",
    "else:\n",
    "    print(2)\n",
    "    for n in range(3, a):\n",
    "        i = 2\n",
    "        while n % i != 0:\n",
    "            i = i+1\n",
    "        if n == i:\n",
    "            print(n)"
   ]
  },
  {
   "cell_type": "markdown",
   "id": "43de9372",
   "metadata": {},
   "source": [
    "> while문의 조건을 n%i != 0으로 설정하여 처음으로 n을 나머지 없이 나누는 몫을 구하고 이 몫이 n과 같은 경우에는 n이 소수인것이기 때문에 n을 출력하도록 하였습니다."
   ]
  },
  {
   "cell_type": "markdown",
   "id": "eb5cdf72",
   "metadata": {},
   "source": [
    "1. Kevin과 Stuart는 게임을 한다. 규칙은 아래와 같다.\n",
    "\n",
    "- 두 플레이어에게 같은 string, S, 가 주어진다.\n",
    "- 두 플레이어는 string S의 문자를 사용하여 substring을 만들어야 한다(중복 가능).\n",
    "- Stuart는 자음으로 시작하는 단어를 만들어야 한다.\n",
    "- Kevin은 모음으로 시작하는 단어를 만들어야 한다.\n",
    "- 게임은 두 플레이어가 만들 수 있는 모든 단어를 만들었을 때 끝난다.\n",
    "- 점수 계산 : substring 1개당 +1 점을 획득한다. (아래 그림 참고)"
   ]
  },
  {
   "cell_type": "markdown",
   "id": "34ca8c2e",
   "metadata": {},
   "source": [
    "자음모음 문자열 만들고 일단 모음과 자음의 갯수를 셈\n",
    "인덱스"
   ]
  },
  {
   "cell_type": "code",
   "execution_count": 26,
   "id": "2ea2a431",
   "metadata": {},
   "outputs": [
    {
     "name": "stdout",
     "output_type": "stream",
     "text": [
      "대문자로 이루어진 문자열을 입력하시오: BANANA\n",
      "승자: Stuart 점수: 12\n"
     ]
    }
   ],
   "source": [
    "vow = ['A', 'E', 'I', 'O', 'U', 'Y']                                                                   # 모음 문자열\n",
    "con = ['B', 'C', 'D', 'F', 'H', 'J', 'K', 'L', 'M', 'N', 'P', 'Q', 'R', 'S', 'T', 'V', 'W', 'X', 'Z']  # 자음 문자열\n",
    "S = input(\"대문자로 이루어진 문자열을 입력하시오: \")                                                   # 문자열 S를 입력받음\n",
    "conN = 0       # 만들 수 있는 자음으로 시작하는 단어 수\n",
    "vowN = 0       # 만들 수 있는 자음으로 시작하는 단어 수\n",
    "\n",
    "for n in range(0, len(S)): \n",
    "    if S[n] in con:                          # S문자열의 n위치의 문자가 자음인 경우 \n",
    "        conN = conN + (len(S) - n)           # S 문자열의 길이에서 n을 빼면 n위치의 자음으로 시작하는 단어의 수임\n",
    "    elif S[n] in vow:                        # S문자열의 n위치의 문자가 모음인 경우 \n",
    "        vowN = vowN + (len(S) - n)           # S 문자열의 길이에서 n을 빼면 n위치의 모음으로 시작하는 단어의 수임\n",
    "    n = n+1\n",
    "    \n",
    "if conN > vowN:                              # 만들 수 있는 자음으로 시작하는 단어 수가 더 많은 경우\n",
    "    print(\"승자: Stuart 점수: \" + str(conN)) # Stuart를 승자로 출력\n",
    "else:                                        # 만들 수 있는 모음으로 시작하는 단어 수가 더 많은 경우\n",
    "    print(\"숭자: Kevin 점수: \" + str(vowN))  # Kevin을 승자로 출력"
   ]
  },
  {
   "cell_type": "markdown",
   "id": "e9e85197",
   "metadata": {},
   "source": [
    "> 자음과 모음을 각각 담고 있는 문자열을 생성하고\n",
    "\n",
    "> S문자열의 n위치의 문자가 자음인 경우 S 문자열의 길이에서 n을 빼면 n위치의 자음으로 시작하는 단어의 수이고 \n",
    "> S문자열의 n위치의 문자가 모음인 경우 S 문자열의 길이에서 n을 빼면 n위치의 모음으로 시작하는 단어의 수임을 이용하여 문제를 해결하였습니다."
   ]
  },
  {
   "cell_type": "code",
   "execution_count": 35,
   "id": "fc7ae34f",
   "metadata": {},
   "outputs": [
    {
     "name": "stdout",
     "output_type": "stream",
     "text": [
      "문자열을 입력하세요: hackerhappy\n",
      "문자열을 입력하세요: hackerrank\n",
      "s를 몇번의 연산으로 t로 바꿀 수 있나요?: 9\n",
      "Yes\n"
     ]
    }
   ],
   "source": [
    "n = 0\n",
    "def appendDelete(s, t, k):\n",
    "    global n\n",
    "    if len(s) > len(t):\n",
    "        n = n + (len(s) - len(t))\n",
    "        for i in (0, len(t)-1, 1):\n",
    "            if s[i] != t[i]:\n",
    "                n = n+2\n",
    "    else:\n",
    "        n = n + (len(t) - len(s))\n",
    "        for i in (0, len(s)-1, 1):\n",
    "            if s[i] != t[i]:\n",
    "                n = n+2\n",
    "    if n < k:\n",
    "        return \"Yes\"\n",
    "    else:\n",
    "        return \"No\"\n",
    "\n",
    "\n",
    "s = input(\"문자열을 입력하세요: \")\n",
    "t = input(\"문자열을 입력하세요: \")\n",
    "k = int(input(\"s를 몇번의 연산으로 t로 바꿀 수 있나요?: \"))\n",
    "print(appendDelete(s, t, k))"
   ]
  },
  {
   "cell_type": "markdown",
   "id": "46ca40a9",
   "metadata": {},
   "source": [
    "> len(s) > len(t) 인 경우에는 t문자열 길이 이상의 항목은 삭제하여야 하기 때문에 n에 1을 더하고 t와 다른 항목일때는 s의 항목을 삭제하고 추가하여하 하기 때문에 n값을 2씩 추가하였습니다.\n",
    "\n",
    "> len(s) < len(t) 인 경우에는 t문자열이 더 길기 때문에 더 추가 하여야 하기 때문에 n에 1을 더하고 t와 다른 항목을 가지는 부분은 n값을 2씩 추가하였습니다.\n",
    "\n",
    "> n<k인 경우 Yes를 반환하고 아닌경우에는 No를 반환하도록 하였습니다."
   ]
  },
  {
   "cell_type": "markdown",
   "id": "b25fd52b",
   "metadata": {},
   "source": [
    "##### 아직 파이썬의 기초적인 부분을 공부하고 있지만 숙제를 하면서 직접 사용하게 되니 문법들이 더 정리되고 쓰임새를 더욱 익히게 된것 같습니다."
   ]
  }
 ],
 "metadata": {
  "kernelspec": {
   "display_name": "Python 3",
   "language": "python",
   "name": "python3"
  },
  "language_info": {
   "codemirror_mode": {
    "name": "ipython",
    "version": 3
   },
   "file_extension": ".py",
   "mimetype": "text/x-python",
   "name": "python",
   "nbconvert_exporter": "python",
   "pygments_lexer": "ipython3",
   "version": "3.8.8"
  }
 },
 "nbformat": 4,
 "nbformat_minor": 5
}
